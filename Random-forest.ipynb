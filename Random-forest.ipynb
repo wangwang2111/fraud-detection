{
 "cells": [
  {
   "cell_type": "code",
   "execution_count": 7,
   "id": "8a2cc03e",
   "metadata": {
    "scrolled": true
   },
   "outputs": [
    {
     "data": {
      "text/html": [
       "<div>\n",
       "<style scoped>\n",
       "    .dataframe tbody tr th:only-of-type {\n",
       "        vertical-align: middle;\n",
       "    }\n",
       "\n",
       "    .dataframe tbody tr th {\n",
       "        vertical-align: top;\n",
       "    }\n",
       "\n",
       "    .dataframe thead th {\n",
       "        text-align: right;\n",
       "    }\n",
       "</style>\n",
       "<table border=\"1\" class=\"dataframe\">\n",
       "  <thead>\n",
       "    <tr style=\"text-align: right;\">\n",
       "      <th></th>\n",
       "      <th>id</th>\n",
       "      <th>label</th>\n",
       "      <th>time_1</th>\n",
       "      <th>time_2</th>\n",
       "      <th>Field_11</th>\n",
       "      <th>cat_1</th>\n",
       "      <th>cat_2</th>\n",
       "      <th>cat_3</th>\n",
       "      <th>cat_4</th>\n",
       "      <th>cat_5</th>\n",
       "      <th>date_1</th>\n",
       "      <th>mer_des</th>\n",
       "      <th>mul_rate</th>\n",
       "      <th>value</th>\n",
       "      <th>cat_6</th>\n",
       "      <th>num_date_review</th>\n",
       "      <th>review_value</th>\n",
       "      <th>review_value_2</th>\n",
       "      <th>date_2</th>\n",
       "      <th>date_3</th>\n",
       "      <th>date_4</th>\n",
       "      <th>dob</th>\n",
       "      <th>age</th>\n",
       "      <th>sex</th>\n",
       "      <th>address</th>\n",
       "      <th>location_id</th>\n",
       "      <th>mer_id</th>\n",
       "      <th>mer_name</th>\n",
       "      <th>cat_7</th>\n",
       "      <th>trans_location</th>\n",
       "      <th>trans_currency</th>\n",
       "      <th>cat_8</th>\n",
       "      <th>job</th>\n",
       "      <th>num_trans_last_month</th>\n",
       "      <th>cat_9</th>\n",
       "      <th>cat_10</th>\n",
       "      <th>cat_11</th>\n",
       "      <th>com_type</th>\n",
       "      <th>cat_12</th>\n",
       "      <th>job_detail</th>\n",
       "      <th>unknown_var_1</th>\n",
       "      <th>unknown_var_2</th>\n",
       "      <th>unknown_var_3</th>\n",
       "      <th>unknown_var_4</th>\n",
       "      <th>unknown_var_5</th>\n",
       "      <th>unknown_var_6</th>\n",
       "      <th>unknown_var_7</th>\n",
       "      <th>unknown_var_8</th>\n",
       "      <th>unknown_var_9</th>\n",
       "      <th>unknown_var_10</th>\n",
       "      <th>unknown_var_11</th>\n",
       "      <th>unknown_var_12</th>\n",
       "      <th>unknown_var_13</th>\n",
       "      <th>unknown_var_14</th>\n",
       "      <th>unknown_var_15</th>\n",
       "      <th>unknown_var_16</th>\n",
       "      <th>unknown_var_17</th>\n",
       "      <th>unknown_var_18</th>\n",
       "      <th>unknown_var_19</th>\n",
       "      <th>unknown_var_20</th>\n",
       "      <th>social_friend_count</th>\n",
       "      <th>social_sex_info</th>\n",
       "      <th>social_subcriber_count</th>\n",
       "      <th>social_location_id</th>\n",
       "      <th>current_location_city</th>\n",
       "      <th>current_location_country</th>\n",
       "      <th>hometown_location_city</th>\n",
       "      <th>hometown_location_country</th>\n",
       "    </tr>\n",
       "  </thead>\n",
       "  <tbody>\n",
       "    <tr>\n",
       "      <th>0</th>\n",
       "      <td>11651</td>\n",
       "      <td>0</td>\n",
       "      <td>NaT</td>\n",
       "      <td>NaT</td>\n",
       "      <td>NaN</td>\n",
       "      <td>NaN</td>\n",
       "      <td>NaN</td>\n",
       "      <td>NaN</td>\n",
       "      <td>NaN</td>\n",
       "      <td>NaN</td>\n",
       "      <td>NaN</td>\n",
       "      <td>NaN</td>\n",
       "      <td>NaN</td>\n",
       "      <td>NaN</td>\n",
       "      <td>NaN</td>\n",
       "      <td>NaN</td>\n",
       "      <td>NaN</td>\n",
       "      <td>NaN</td>\n",
       "      <td>NaN</td>\n",
       "      <td>NaN</td>\n",
       "      <td>NaN</td>\n",
       "      <td>NaN</td>\n",
       "      <td>NaN</td>\n",
       "      <td>NaN</td>\n",
       "      <td>NaN</td>\n",
       "      <td>NaN</td>\n",
       "      <td>NaN</td>\n",
       "      <td>NaN</td>\n",
       "      <td>NaN</td>\n",
       "      <td>NaN</td>\n",
       "      <td>NaN</td>\n",
       "      <td>NaN</td>\n",
       "      <td>NaN</td>\n",
       "      <td>NaN</td>\n",
       "      <td>NaN</td>\n",
       "      <td>NaN</td>\n",
       "      <td>NaN</td>\n",
       "      <td>NaN</td>\n",
       "      <td>NaN</td>\n",
       "      <td>NaN</td>\n",
       "      <td>7.0</td>\n",
       "      <td>7.0</td>\n",
       "      <td>7.0</td>\n",
       "      <td>NaN</td>\n",
       "      <td>1</td>\n",
       "      <td>1.0</td>\n",
       "      <td>5.0</td>\n",
       "      <td>10.606602</td>\n",
       "      <td>-2.5</td>\n",
       "      <td>-10.0</td>\n",
       "      <td>1</td>\n",
       "      <td>NaN</td>\n",
       "      <td>NaN</td>\n",
       "      <td>NaN</td>\n",
       "      <td>NaN</td>\n",
       "      <td>1.0</td>\n",
       "      <td>2901.0</td>\n",
       "      <td>NaN</td>\n",
       "      <td>NaN</td>\n",
       "      <td>NaN</td>\n",
       "      <td>285.0</td>\n",
       "      <td>male</td>\n",
       "      <td>64.0</td>\n",
       "      <td>vi_VN</td>\n",
       "      <td>Hanoi</td>\n",
       "      <td>Vietnam</td>\n",
       "      <td>??oan Hùng</td>\n",
       "      <td>Vietnam</td>\n",
       "    </tr>\n",
       "    <tr>\n",
       "      <th>1</th>\n",
       "      <td>48491</td>\n",
       "      <td>0</td>\n",
       "      <td>NaT</td>\n",
       "      <td>NaT</td>\n",
       "      <td>NaN</td>\n",
       "      <td>NaN</td>\n",
       "      <td>NaN</td>\n",
       "      <td>NaN</td>\n",
       "      <td>NaN</td>\n",
       "      <td>NaN</td>\n",
       "      <td>NaN</td>\n",
       "      <td>NaN</td>\n",
       "      <td>NaN</td>\n",
       "      <td>NaN</td>\n",
       "      <td>NaN</td>\n",
       "      <td>NaN</td>\n",
       "      <td>NaN</td>\n",
       "      <td>NaN</td>\n",
       "      <td>NaN</td>\n",
       "      <td>NaN</td>\n",
       "      <td>NaN</td>\n",
       "      <td>NaN</td>\n",
       "      <td>NaN</td>\n",
       "      <td>NaN</td>\n",
       "      <td>NaN</td>\n",
       "      <td>NaN</td>\n",
       "      <td>NaN</td>\n",
       "      <td>NaN</td>\n",
       "      <td>NaN</td>\n",
       "      <td>NaN</td>\n",
       "      <td>NaN</td>\n",
       "      <td>NaN</td>\n",
       "      <td>NaN</td>\n",
       "      <td>NaN</td>\n",
       "      <td>NaN</td>\n",
       "      <td>NaN</td>\n",
       "      <td>NaN</td>\n",
       "      <td>NaN</td>\n",
       "      <td>NaN</td>\n",
       "      <td>NaN</td>\n",
       "      <td>16.0</td>\n",
       "      <td>11.0</td>\n",
       "      <td>7.0</td>\n",
       "      <td>5.0</td>\n",
       "      <td>1</td>\n",
       "      <td>1.0</td>\n",
       "      <td>84.0</td>\n",
       "      <td>55.154329</td>\n",
       "      <td>45.0</td>\n",
       "      <td>6.0</td>\n",
       "      <td>1</td>\n",
       "      <td>NaN</td>\n",
       "      <td>NaN</td>\n",
       "      <td>NaN</td>\n",
       "      <td>NaN</td>\n",
       "      <td>NaN</td>\n",
       "      <td>NaN</td>\n",
       "      <td>2.0</td>\n",
       "      <td>0.0</td>\n",
       "      <td>2.0</td>\n",
       "      <td>2534.0</td>\n",
       "      <td>female</td>\n",
       "      <td>391.0</td>\n",
       "      <td>vi_VN</td>\n",
       "      <td>NaN</td>\n",
       "      <td>NaN</td>\n",
       "      <td>??oan Hùng</td>\n",
       "      <td>Vietnam</td>\n",
       "    </tr>\n",
       "    <tr>\n",
       "      <th>2</th>\n",
       "      <td>42868</td>\n",
       "      <td>0</td>\n",
       "      <td>2017-01-23 18:00:32.690</td>\n",
       "      <td>2017-01-23 18:00:32.690</td>\n",
       "      <td>NaN</td>\n",
       "      <td>C2</td>\n",
       "      <td>P1</td>\n",
       "      <td>1.0</td>\n",
       "      <td>NaN</td>\n",
       "      <td>1.0</td>\n",
       "      <td>12/27/2012</td>\n",
       "      <td>NaN</td>\n",
       "      <td>2.26</td>\n",
       "      <td>3367400.0</td>\n",
       "      <td>1.0</td>\n",
       "      <td>0.0</td>\n",
       "      <td>-</td>\n",
       "      <td>0.0</td>\n",
       "      <td>NaN</td>\n",
       "      <td>NaN</td>\n",
       "      <td>NaN</td>\n",
       "      <td>19810807.0</td>\n",
       "      <td>36.0</td>\n",
       "      <td>FEMALE</td>\n",
       "      <td>Xã Lâu Thượng, Võ Nhai, Thái Nguyên</td>\n",
       "      <td>HC</td>\n",
       "      <td>DW0016Z</td>\n",
       "      <td>Kho bạc nhà nước Thái Nguyên</td>\n",
       "      <td>1.0</td>\n",
       "      <td>Tổ 3, P.Phan Đình Phùng - TPTN</td>\n",
       "      <td>NaN</td>\n",
       "      <td>DW</td>\n",
       "      <td>Đảng đoàn thể TW</td>\n",
       "      <td>6.0</td>\n",
       "      <td>I</td>\n",
       "      <td>3.0</td>\n",
       "      <td>0.0</td>\n",
       "      <td>Vùng 2</td>\n",
       "      <td>D</td>\n",
       "      <td>NaN</td>\n",
       "      <td>4.0</td>\n",
       "      <td>4.0</td>\n",
       "      <td>4.0</td>\n",
       "      <td>1.0</td>\n",
       "      <td>3</td>\n",
       "      <td>1.0</td>\n",
       "      <td>2.0</td>\n",
       "      <td>1.414214</td>\n",
       "      <td>1.0</td>\n",
       "      <td>0.0</td>\n",
       "      <td>1</td>\n",
       "      <td>0.06</td>\n",
       "      <td>0.33</td>\n",
       "      <td>0.195</td>\n",
       "      <td>0.27</td>\n",
       "      <td>NaN</td>\n",
       "      <td>NaN</td>\n",
       "      <td>NaN</td>\n",
       "      <td>NaN</td>\n",
       "      <td>NaN</td>\n",
       "      <td>653.0</td>\n",
       "      <td>female</td>\n",
       "      <td>0.0</td>\n",
       "      <td>vi_VN</td>\n",
       "      <td>Thái Nguyên</td>\n",
       "      <td>Vietnam</td>\n",
       "      <td>??oan Hùng</td>\n",
       "      <td>Vietnam</td>\n",
       "    </tr>\n",
       "    <tr>\n",
       "      <th>3</th>\n",
       "      <td>68835</td>\n",
       "      <td>1</td>\n",
       "      <td>NaT</td>\n",
       "      <td>NaT</td>\n",
       "      <td>NaN</td>\n",
       "      <td>NaN</td>\n",
       "      <td>NaN</td>\n",
       "      <td>NaN</td>\n",
       "      <td>NaN</td>\n",
       "      <td>NaN</td>\n",
       "      <td>NaN</td>\n",
       "      <td>NaN</td>\n",
       "      <td>NaN</td>\n",
       "      <td>NaN</td>\n",
       "      <td>NaN</td>\n",
       "      <td>NaN</td>\n",
       "      <td>NaN</td>\n",
       "      <td>NaN</td>\n",
       "      <td>NaN</td>\n",
       "      <td>NaN</td>\n",
       "      <td>NaN</td>\n",
       "      <td>NaN</td>\n",
       "      <td>NaN</td>\n",
       "      <td>NaN</td>\n",
       "      <td>NaN</td>\n",
       "      <td>NaN</td>\n",
       "      <td>NaN</td>\n",
       "      <td>NaN</td>\n",
       "      <td>NaN</td>\n",
       "      <td>NaN</td>\n",
       "      <td>NaN</td>\n",
       "      <td>NaN</td>\n",
       "      <td>NaN</td>\n",
       "      <td>NaN</td>\n",
       "      <td>NaN</td>\n",
       "      <td>NaN</td>\n",
       "      <td>NaN</td>\n",
       "      <td>NaN</td>\n",
       "      <td>NaN</td>\n",
       "      <td>NaN</td>\n",
       "      <td>4.0</td>\n",
       "      <td>4.0</td>\n",
       "      <td>1.0</td>\n",
       "      <td>1.0</td>\n",
       "      <td>2</td>\n",
       "      <td>1.0</td>\n",
       "      <td>0.0</td>\n",
       "      <td>NaN</td>\n",
       "      <td>0.0</td>\n",
       "      <td>0.0</td>\n",
       "      <td>1</td>\n",
       "      <td>NaN</td>\n",
       "      <td>NaN</td>\n",
       "      <td>NaN</td>\n",
       "      <td>NaN</td>\n",
       "      <td>NaN</td>\n",
       "      <td>NaN</td>\n",
       "      <td>NaN</td>\n",
       "      <td>NaN</td>\n",
       "      <td>NaN</td>\n",
       "      <td>0.0</td>\n",
       "      <td>male</td>\n",
       "      <td>0.0</td>\n",
       "      <td>vi_VN</td>\n",
       "      <td>Can Tho</td>\n",
       "      <td>Vietnam</td>\n",
       "      <td>Ô Môn</td>\n",
       "      <td>Vietnam</td>\n",
       "    </tr>\n",
       "  </tbody>\n",
       "</table>\n",
       "</div>"
      ],
      "text/plain": [
       "      id  label                  time_1                  time_2 Field_11  \\\n",
       "0  11651      0                     NaT                     NaT      NaN   \n",
       "1  48491      0                     NaT                     NaT      NaN   \n",
       "2  42868      0 2017-01-23 18:00:32.690 2017-01-23 18:00:32.690      NaN   \n",
       "3  68835      1                     NaT                     NaT      NaN   \n",
       "\n",
       "  cat_1 cat_2  cat_3 cat_4  cat_5      date_1 mer_des  mul_rate      value  \\\n",
       "0   NaN   NaN    NaN   NaN    NaN         NaN     NaN       NaN        NaN   \n",
       "1   NaN   NaN    NaN   NaN    NaN         NaN     NaN       NaN        NaN   \n",
       "2    C2    P1    1.0   NaN    1.0  12/27/2012     NaN      2.26  3367400.0   \n",
       "3   NaN   NaN    NaN   NaN    NaN         NaN     NaN       NaN        NaN   \n",
       "\n",
       "   cat_6  num_date_review review_value  review_value_2 date_2 date_3 date_4  \\\n",
       "0    NaN              NaN          NaN             NaN    NaN    NaN    NaN   \n",
       "1    NaN              NaN          NaN             NaN    NaN    NaN    NaN   \n",
       "2    1.0              0.0         -                0.0    NaN    NaN    NaN   \n",
       "3    NaN              NaN          NaN             NaN    NaN    NaN    NaN   \n",
       "\n",
       "          dob   age     sex                              address location_id  \\\n",
       "0         NaN   NaN     NaN                                  NaN         NaN   \n",
       "1         NaN   NaN     NaN                                  NaN         NaN   \n",
       "2  19810807.0  36.0  FEMALE  Xã Lâu Thượng, Võ Nhai, Thái Nguyên          HC   \n",
       "3         NaN   NaN     NaN                                  NaN         NaN   \n",
       "\n",
       "    mer_id                      mer_name  cat_7  \\\n",
       "0      NaN                           NaN    NaN   \n",
       "1      NaN                           NaN    NaN   \n",
       "2  DW0016Z  Kho bạc nhà nước Thái Nguyên    1.0   \n",
       "3      NaN                           NaN    NaN   \n",
       "\n",
       "                   trans_location trans_currency cat_8               job  \\\n",
       "0                             NaN            NaN   NaN               NaN   \n",
       "1                             NaN            NaN   NaN               NaN   \n",
       "2  Tổ 3, P.Phan Đình Phùng - TPTN            NaN    DW  Đảng đoàn thể TW   \n",
       "3                             NaN            NaN   NaN               NaN   \n",
       "\n",
       "   num_trans_last_month cat_9  cat_10  cat_11 com_type cat_12 job_detail  \\\n",
       "0                   NaN   NaN     NaN     NaN      NaN    NaN        NaN   \n",
       "1                   NaN   NaN     NaN     NaN      NaN    NaN        NaN   \n",
       "2                   6.0     I     3.0     0.0   Vùng 2      D        NaN   \n",
       "3                   NaN   NaN     NaN     NaN      NaN    NaN        NaN   \n",
       "\n",
       "   unknown_var_1  unknown_var_2  unknown_var_3  unknown_var_4 unknown_var_5  \\\n",
       "0            7.0            7.0            7.0            NaN             1   \n",
       "1           16.0           11.0            7.0            5.0             1   \n",
       "2            4.0            4.0            4.0            1.0             3   \n",
       "3            4.0            4.0            1.0            1.0             2   \n",
       "\n",
       "   unknown_var_6  unknown_var_7  unknown_var_8  unknown_var_9  unknown_var_10  \\\n",
       "0            1.0            5.0      10.606602           -2.5           -10.0   \n",
       "1            1.0           84.0      55.154329           45.0             6.0   \n",
       "2            1.0            2.0       1.414214            1.0             0.0   \n",
       "3            1.0            0.0            NaN            0.0             0.0   \n",
       "\n",
       "   unknown_var_11  unknown_var_12  unknown_var_13  unknown_var_14  \\\n",
       "0               1             NaN             NaN             NaN   \n",
       "1               1             NaN             NaN             NaN   \n",
       "2               1            0.06            0.33           0.195   \n",
       "3               1             NaN             NaN             NaN   \n",
       "\n",
       "   unknown_var_15  unknown_var_16  unknown_var_17  unknown_var_18  \\\n",
       "0             NaN             1.0          2901.0             NaN   \n",
       "1             NaN             NaN             NaN             2.0   \n",
       "2            0.27             NaN             NaN             NaN   \n",
       "3             NaN             NaN             NaN             NaN   \n",
       "\n",
       "   unknown_var_19  unknown_var_20  social_friend_count social_sex_info  \\\n",
       "0             NaN             NaN                285.0            male   \n",
       "1             0.0             2.0               2534.0          female   \n",
       "2             NaN             NaN                653.0          female   \n",
       "3             NaN             NaN                  0.0            male   \n",
       "\n",
       "   social_subcriber_count social_location_id current_location_city  \\\n",
       "0                    64.0              vi_VN                 Hanoi   \n",
       "1                   391.0              vi_VN                   NaN   \n",
       "2                     0.0              vi_VN           Thái Nguyên   \n",
       "3                     0.0              vi_VN               Can Tho   \n",
       "\n",
       "  current_location_country hometown_location_city hometown_location_country  \n",
       "0                  Vietnam             ??oan Hùng                   Vietnam  \n",
       "1                      NaN             ??oan Hùng                   Vietnam  \n",
       "2                  Vietnam             ??oan Hùng                   Vietnam  \n",
       "3                  Vietnam                  Ô Môn                   Vietnam  "
      ]
     },
     "execution_count": 7,
     "metadata": {},
     "output_type": "execute_result"
    }
   ],
   "source": [
    "# Import the dataset\n",
    "import pandas as pd\n",
    "\n",
    "df = pd.read_excel(r\"D:/quang/data attacker/train_clean.xlsx\")\n",
    "df.columns = df.columns.str.strip()\n",
    "pd.options.display.max_columns = None\n",
    "df.head(4)"
   ]
  },
  {
   "cell_type": "code",
   "execution_count": 8,
   "id": "00d0fd52",
   "metadata": {},
   "outputs": [],
   "source": [
    "# Divide traindata into two dataframes\n",
    "\n",
    "dat_with_time_1 = df[df['time_1'].isnull()==False]\n",
    "dat_without_time_1 = df[df['time_1'].isnull()==True]"
   ]
  },
  {
   "cell_type": "code",
   "execution_count": 3,
   "id": "fe3ef6cb",
   "metadata": {},
   "outputs": [],
   "source": [
    "dat_with_time_1.to_excel(r'C:\\Users\\ADMIN\\OneDrive - National Economics University\\Desktop\\DAT WITH TIME1.xlsx', index=False)\n",
    "dat_without_time_1.to_excel(r'C:\\Users\\ADMIN\\OneDrive - National Economics University\\Desktop\\DAT WITHOUT TIME1.xlsx', index=False)"
   ]
  },
  {
   "cell_type": "code",
   "execution_count": 57,
   "id": "ffbe1dba",
   "metadata": {},
   "outputs": [
    {
     "data": {
      "text/plain": [
       "id                              0\n",
       "time_1                          0\n",
       "time_2                          0\n",
       "Field_11                     1838\n",
       "cat_1                           0\n",
       "                             ... \n",
       "social_location_id           1263\n",
       "current_location_city        1816\n",
       "current_location_country     1816\n",
       "hometown_location_city       1861\n",
       "hometown_location_country    1861\n",
       "Length: 67, dtype: int64"
      ]
     },
     "execution_count": 57,
     "metadata": {},
     "output_type": "execute_result"
    }
   ],
   "source": [
    "dat_with_time_1.isnull().sum(axis = 0)"
   ]
  },
  {
   "cell_type": "markdown",
   "id": "5c10b839",
   "metadata": {},
   "source": [
    "# Random Forest with time_1"
   ]
  },
  {
   "cell_type": "code",
   "execution_count": 16,
   "id": "8891d531",
   "metadata": {},
   "outputs": [],
   "source": [
    "dat_with_time_1_clean = dat_with_time_1.drop(['location_id',\"cat_9\",'trans_currency',\"id\",\"time_1\",\"time_2\",\"Field_11\",\"cat_2\",\"cat_4\",\"cat_5\",\"cat_6\",\"date_1\",\"mer_des\",\"review_value\",\"date_2\",\"date_3\",\"date_4\",\"dob\",\"address\",\"mer_id\",\"mer_name\",\"trans_location\",\"cat_8\",\"job\",\"num_trans_last_month\",\"com_type\",\"job_detail\",\"unknown_var_4\",\"social_location_id\",\"social_subcriber_count\",\"social_sex_info\",\"social_friend_count\"], axis=1)\n",
    "dat_with_time_1_clean[['cat_1','cat_3','review_value_2','sex', 'cat_7', 'cat_10','cat_12','unknown_var_5','unknown_var_6','unknown_var_11','unknown_var_16','unknown_var_18','unknown_var_19','unknown_var_20','cat_11','current_location_city']] = dat_with_time_1_clean[['cat_1','cat_3','review_value_2','sex', 'cat_7', 'cat_10','cat_12','unknown_var_5','unknown_var_6','unknown_var_11','unknown_var_16','unknown_var_18','unknown_var_19','unknown_var_20','cat_11','current_location_city']].apply(lambda x: x.fillna(x.value_counts().index[0]))\n",
    "dat_with_time_1_clean[['mul_rate','value','num_date_review','age','unknown_var_2','unknown_var_3','unknown_var_7','unknown_var_8','unknown_var_9','unknown_var_10','unknown_var_12','unknown_var_13','unknown_var_14','unknown_var_15', 'unknown_var_17','unknown_var_1']] = dat_with_time_1_clean[['mul_rate','value','num_date_review','age','unknown_var_2','unknown_var_3','unknown_var_7','unknown_var_8','unknown_var_9','unknown_var_10','unknown_var_12','unknown_var_13','unknown_var_14','unknown_var_15', 'unknown_var_17','unknown_var_1']].apply(lambda x: x.fillna(x.median()))"
   ]
  },
  {
   "cell_type": "code",
   "execution_count": 17,
   "id": "442ada8f",
   "metadata": {},
   "outputs": [],
   "source": [
    "change_to_int = ['cat_3', 'cat_7', 'cat_10', 'cat_11', 'unknown_var_6', 'unknown_var_11','unknown_var_16',\n",
    "                'unknown_var_18','unknown_var_19','unknown_var_20']\n",
    "for i in change_to_int:\n",
    "    dat_with_time_1_clean[i]=dat_with_time_1_clean[i].astype('int')\n",
    "    \n",
    "dat_with_time_1_clean = pd.get_dummies(data=dat_with_time_1_clean, columns=['cat_1','cat_3','review_value_2','sex', 'cat_7', 'cat_10','cat_11','cat_12','unknown_var_5','unknown_var_6','unknown_var_11','unknown_var_16','unknown_var_18','unknown_var_19','unknown_var_20']) #tao bien dummies"
   ]
  },
  {
   "cell_type": "code",
   "execution_count": 51,
   "id": "1ba60cde",
   "metadata": {},
   "outputs": [],
   "source": [
    "# In[]:\n",
    "y = set(new_dat_with_time_1_clean.columns)\n",
    "temp4 = [x for x in dat_with_time_1_clean.columns if x not in y]\n",
    "temp4.remove('label')\n",
    "\n",
    "# In[]:\n",
    "dat_with_time_1_clean.drop(temp4, axis=1, inplace=True)"
   ]
  },
  {
   "cell_type": "code",
   "execution_count": 52,
   "id": "ee0a0d16",
   "metadata": {},
   "outputs": [],
   "source": [
    "X_with_time_1=dat_with_time_1_clean.drop([\"label\"], axis=1) \n",
    "y_with_time_1=dat_with_time_1_clean[\"label\"]"
   ]
  },
  {
   "cell_type": "code",
   "execution_count": 53,
   "id": "12af0a87",
   "metadata": {},
   "outputs": [],
   "source": [
    "from sklearn.model_selection import train_test_split\n",
    "X_train_with_time_1, X_test_with_time_1, y_train_with_time_1, y_test_with_time_1 = train_test_split(X_with_time_1, y_with_time_1, test_size=0.2, random_state=4316)"
   ]
  },
  {
   "cell_type": "code",
   "execution_count": 54,
   "id": "136d4e8f",
   "metadata": {},
   "outputs": [
    {
     "data": {
      "text/plain": [
       "RandomForestClassifier(max_features='sqrt', n_estimators=1000,\n",
       "                       random_state=4316)"
      ]
     },
     "execution_count": 54,
     "metadata": {},
     "output_type": "execute_result"
    }
   ],
   "source": [
    "from sklearn.ensemble import RandomForestClassifier\n",
    "rf_model_with_time_1 = RandomForestClassifier(n_estimators=1000, max_features='sqrt',\n",
    "                                  random_state=4316)\n",
    "rf_model_with_time_1.fit(X_train_with_time_1, y_train_with_time_1)"
   ]
  },
  {
   "cell_type": "code",
   "execution_count": 55,
   "id": "adf0f129",
   "metadata": {
    "scrolled": true
   },
   "outputs": [
    {
     "data": {
      "text/plain": [
       "array([[0.706, 0.294],\n",
       "       [0.696, 0.304],\n",
       "       [0.625, 0.375],\n",
       "       ...,\n",
       "       [0.606, 0.394],\n",
       "       [0.598, 0.402],\n",
       "       [0.658, 0.342]])"
      ]
     },
     "execution_count": 55,
     "metadata": {},
     "output_type": "execute_result"
    }
   ],
   "source": [
    "predictions = rf_model_with_time_1.predict(X_test_with_time_1)\n",
    "predictions\n",
    "rf_model_with_time_1.predict_proba(X_test_with_time_1)"
   ]
  },
  {
   "cell_type": "code",
   "execution_count": 56,
   "id": "ad75ee97",
   "metadata": {},
   "outputs": [
    {
     "data": {
      "text/plain": [
       "0.6349206349206349"
      ]
     },
     "execution_count": 56,
     "metadata": {},
     "output_type": "execute_result"
    }
   ],
   "source": [
    "rf_model_with_time_1.score(X_test_with_time_1,y_test_with_time_1)"
   ]
  },
  {
   "cell_type": "code",
   "execution_count": 12,
   "id": "8a2255ba",
   "metadata": {},
   "outputs": [
    {
     "name": "stdout",
     "output_type": "stream",
     "text": [
      "The importance of feature 'mul_rate' is 0.83%.\n",
      "The importance of feature 'value' is 4.72%.\n",
      "The importance of feature 'num_date_review' is 4.57%.\n",
      "The importance of feature 'age' is 4.71%.\n",
      "The importance of feature 'unknown_var_1' is 3.77%.\n",
      "The importance of feature 'unknown_var_2' is 3.54%.\n",
      "The importance of feature 'unknown_var_3' is 3.3%.\n",
      "The importance of feature 'unknown_var_7' is 3.95%.\n",
      "The importance of feature 'unknown_var_8' is 3.64%.\n",
      "The importance of feature 'unknown_var_9' is 4.22%.\n",
      "The importance of feature 'unknown_var_10' is 3.24%.\n",
      "The importance of feature 'unknown_var_12' is 3.95%.\n",
      "The importance of feature 'unknown_var_13' is 3.62%.\n",
      "The importance of feature 'unknown_var_14' is 4.74%.\n",
      "The importance of feature 'unknown_var_15' is 4.85%.\n",
      "The importance of feature 'unknown_var_17' is 4.27%.\n",
      "The importance of feature 'cat_1_C1' is 0.77%.\n",
      "The importance of feature 'cat_1_C2' is 0.74%.\n",
      "The importance of feature 'cat_3_1' is 0.48%.\n",
      "The importance of feature 'cat_3_2' is 0.45%.\n",
      "The importance of feature 'cat_3_3' is 0.1%.\n",
      "The importance of feature 'cat_3_4' is 0.02%.\n",
      "The importance of feature 'review_value_2_0' is 0.35%.\n",
      "The importance of feature 'review_value_2_1' is 0.33%.\n",
      "The importance of feature 'sex_FEMALE' is 0.88%.\n",
      "The importance of feature 'sex_MALE' is 0.89%.\n",
      "The importance of feature 'cat_7_0' is 0.88%.\n",
      "The importance of feature 'cat_7_1' is 0.76%.\n",
      "The importance of feature 'cat_7_2' is 0.41%.\n",
      "The importance of feature 'cat_7_3' is 0.37%.\n",
      "The importance of feature 'cat_7_4' is 0.76%.\n",
      "The importance of feature 'cat_10_0' is 0.38%.\n",
      "The importance of feature 'cat_10_2' is 0.85%.\n",
      "The importance of feature 'cat_10_3' is 0.72%.\n",
      "The importance of feature 'cat_10_4' is 0.67%.\n",
      "The importance of feature 'cat_10_5' is 0.33%.\n",
      "The importance of feature 'cat_10_6' is 0.13%.\n",
      "The importance of feature 'cat_10_7' is 0.09%.\n",
      "The importance of feature 'cat_10_8' is 0.4%.\n",
      "The importance of feature 'cat_10_9' is 0.03%.\n",
      "The importance of feature 'cat_11_0' is 0.44%.\n",
      "The importance of feature 'cat_11_2' is 0.27%.\n",
      "The importance of feature 'cat_11_3' is 0.08%.\n",
      "The importance of feature 'cat_11_4' is 0.14%.\n",
      "The importance of feature 'cat_11_5' is 0.34%.\n",
      "The importance of feature 'cat_12_B' is 0.56%.\n",
      "The importance of feature 'cat_12_C' is 0.74%.\n",
      "The importance of feature 'cat_12_D' is 0.85%.\n",
      "The importance of feature 'cat_12_E' is 0.69%.\n",
      "The importance of feature 'cat_12_F' is 0.55%.\n",
      "The importance of feature 'cat_12_G' is 0.64%.\n",
      "The importance of feature 'cat_12_H' is 0.36%.\n",
      "The importance of feature 'cat_12_I' is 0.36%.\n",
      "The importance of feature 'unknown_var_5_0' is 0.88%.\n",
      "The importance of feature 'unknown_var_5_1' is 0.85%.\n",
      "The importance of feature 'unknown_var_5_1cy' is 0.29%.\n",
      "The importance of feature 'unknown_var_5_2' is 0.76%.\n",
      "The importance of feature 'unknown_var_5_2cy' is 0.36%.\n",
      "The importance of feature 'unknown_var_5_3' is 0.6%.\n",
      "The importance of feature 'unknown_var_5_3cy' is 0.3%.\n",
      "The importance of feature 'unknown_var_5_4' is 0.37%.\n",
      "The importance of feature 'unknown_var_5_4cy' is 0.15%.\n",
      "The importance of feature 'unknown_var_5_5' is 0.16%.\n",
      "The importance of feature 'unknown_var_5_5cy' is 0.05%.\n",
      "The importance of feature 'unknown_var_5_6' is 0.03%.\n",
      "The importance of feature 'unknown_var_5_6cy' is 0.02%.\n",
      "The importance of feature 'unknown_var_5_7cy' is 0.01%.\n",
      "The importance of feature 'unknown_var_5_cb1' is 0.15%.\n",
      "The importance of feature 'unknown_var_5_cb2' is 0.04%.\n",
      "The importance of feature 'unknown_var_5_notfound' is 0.43%.\n",
      "The importance of feature 'unknown_var_6_1' is 0.47%.\n",
      "The importance of feature 'unknown_var_6_2' is 0.45%.\n",
      "The importance of feature 'unknown_var_6_3' is 0.05%.\n",
      "The importance of feature 'unknown_var_6_4' is 0.0%.\n",
      "The importance of feature 'unknown_var_11_1' is 0.83%.\n",
      "The importance of feature 'unknown_var_11_2' is 0.55%.\n",
      "The importance of feature 'unknown_var_11_4' is 0.71%.\n",
      "The importance of feature 'unknown_var_16_0' is 0.04%.\n",
      "The importance of feature 'unknown_var_16_1' is 0.04%.\n",
      "The importance of feature 'unknown_var_18_1' is 0.48%.\n",
      "The importance of feature 'unknown_var_18_2' is 0.47%.\n",
      "The importance of feature 'unknown_var_18_3' is 0.64%.\n",
      "The importance of feature 'unknown_var_18_4' is 0.8%.\n",
      "The importance of feature 'unknown_var_18_5' is 0.61%.\n",
      "The importance of feature 'unknown_var_18_6' is 0.49%.\n",
      "The importance of feature 'unknown_var_18_7' is 0.33%.\n",
      "The importance of feature 'unknown_var_18_8' is 0.24%.\n",
      "The importance of feature 'unknown_var_18_9' is 0.16%.\n",
      "The importance of feature 'unknown_var_18_10' is 0.14%.\n",
      "The importance of feature 'unknown_var_18_11' is 0.07%.\n",
      "The importance of feature 'unknown_var_18_12' is 0.05%.\n",
      "The importance of feature 'unknown_var_18_13' is 0.04%.\n",
      "The importance of feature 'unknown_var_18_14' is 0.03%.\n",
      "The importance of feature 'unknown_var_19_0' is 0.86%.\n",
      "The importance of feature 'unknown_var_19_1' is 0.79%.\n",
      "The importance of feature 'unknown_var_19_2' is 0.65%.\n",
      "The importance of feature 'unknown_var_19_3' is 0.33%.\n",
      "The importance of feature 'unknown_var_19_4' is 0.13%.\n",
      "The importance of feature 'unknown_var_19_5' is 0.04%.\n",
      "The importance of feature 'unknown_var_19_6' is 0.01%.\n",
      "The importance of feature 'unknown_var_19_8' is 0.0%.\n",
      "The importance of feature 'unknown_var_20_0' is 0.19%.\n",
      "The importance of feature 'unknown_var_20_1' is 0.61%.\n",
      "The importance of feature 'unknown_var_20_2' is 0.61%.\n",
      "The importance of feature 'unknown_var_20_3' is 0.68%.\n",
      "The importance of feature 'unknown_var_20_4' is 0.76%.\n",
      "The importance of feature 'unknown_var_20_5' is 0.5%.\n",
      "The importance of feature 'unknown_var_20_6' is 0.37%.\n",
      "The importance of feature 'unknown_var_20_7' is 0.25%.\n",
      "The importance of feature 'unknown_var_20_8' is 0.16%.\n",
      "The importance of feature 'unknown_var_20_9' is 0.1%.\n",
      "The importance of feature 'unknown_var_20_10' is 0.07%.\n",
      "The importance of feature 'unknown_var_20_11' is 0.03%.\n",
      "The importance of feature 'unknown_var_20_12' is 0.02%.\n",
      "The importance of feature 'unknown_var_20_13' is 0.02%.\n"
     ]
    }
   ],
   "source": [
    "importances = rf_model_with_time_1.feature_importances_\n",
    "columns = X_with_time_1.columns\n",
    "i=0\n",
    "while i <len(columns):\n",
    "    print(f\"The importance of feature '{columns[i]}' is {round(importances[i]*100,2)}%.\")\n",
    "    i+=1"
   ]
  },
  {
   "cell_type": "markdown",
   "id": "71022560",
   "metadata": {},
   "source": [
    "# Random Forest without time_1"
   ]
  },
  {
   "cell_type": "code",
   "execution_count": 13,
   "id": "46804815",
   "metadata": {
    "scrolled": true
   },
   "outputs": [],
   "source": [
    "dat_without_time_1_clean = dat_without_time_1.drop(['value','sex',\"time_1\",\"time_2\",\"Field_11\",\n",
    "                                                    'cat_1',\"cat_2\",'cat_3',\"cat_4\",\"cat_5\",\"cat_6\",\n",
    "                                                    'num_date_review','review_value','age',\"date_1\",'mul_rate',\n",
    "                                                    \"mer_des\",\"date_2\",\"date_3\",\"date_4\",\"dob\",\n",
    "                                                    \"address\",\"mer_id\",\"mer_name\",'cat_7','location_id',\n",
    "                                                    \"trans_location\",\"cat_8\",\"job\",\"num_trans_last_month\",'cat_10',\n",
    "                                                    'cat_11','cat_12',\"com_type\",\"job_detail\",\"unknown_var_4\",\n",
    "                                                    'unknown_var_12','unknown_var_13','unknown_var_14','unknown_var_15',\n",
    "                                                    \"social_location_id\",\"social_subcriber_count\",\"social_sex_info\",\n",
    "                                                    \"social_friend_count\",'trans_currency','cat_9','unknown_var_18',\n",
    "                                                    'unknown_var_19','unknown_var_20','unknown_var_7','unknown_var_8',\n",
    "                                                    'unknown_var_16'], axis=1)"
   ]
  },
  {
   "cell_type": "code",
   "execution_count": 14,
   "id": "8746b7e3",
   "metadata": {},
   "outputs": [],
   "source": [
    "dat_without_time_1_clean[['unknown_var_5','unknown_var_6','unknown_var_11']] = dat_without_time_1_clean[['unknown_var_5','unknown_var_6','unknown_var_11']].apply(lambda x: x.fillna(x.value_counts().index[0]))\n",
    "dat_without_time_1_clean[['unknown_var_2','unknown_var_3','unknown_var_9','unknown_var_10','unknown_var_17','unknown_var_1']] = dat_without_time_1_clean[['unknown_var_2','unknown_var_3','unknown_var_9','unknown_var_10','unknown_var_17','unknown_var_1']].apply(lambda x: x.fillna(x.median()))"
   ]
  },
  {
   "cell_type": "code",
   "execution_count": 15,
   "id": "aa006698",
   "metadata": {},
   "outputs": [],
   "source": [
    "change_to_int = ['unknown_var_6', 'unknown_var_11']\n",
    "for i in change_to_int:\n",
    "    dat_without_time_1_clean[i]=dat_without_time_1_clean[i].astype('int')\n",
    "    \n",
    "dat_without_time_1_clean = pd.get_dummies(data=dat_without_time_1_clean, columns=['unknown_var_5','unknown_var_6', 'unknown_var_11']) #tao bien dummies"
   ]
  },
  {
   "cell_type": "code",
   "execution_count": 16,
   "id": "6385b40c",
   "metadata": {
    "scrolled": true
   },
   "outputs": [],
   "source": [
    "dat_without_time_1_clean = dat_without_time_1_clean.drop(['unknown_var_6_5'], axis = 1)"
   ]
  },
  {
   "cell_type": "code",
   "execution_count": 17,
   "id": "59a14881",
   "metadata": {},
   "outputs": [],
   "source": [
    "X_without_time_1=dat_without_time_1_clean.drop([\"label\"], axis=1) \n",
    "y_without_time_1=dat_without_time_1_clean[\"label\"]"
   ]
  },
  {
   "cell_type": "code",
   "execution_count": 19,
   "id": "6eb448df",
   "metadata": {},
   "outputs": [],
   "source": [
    "from sklearn.model_selection import train_test_split\n",
    "X_train_without_time_1, X_test_without_time_1, y_train_without_time_1, y_test_without_time_1 = train_test_split(X_without_time_1, y_without_time_1, test_size=0.2, random_state=69420)"
   ]
  },
  {
   "cell_type": "code",
   "execution_count": 23,
   "id": "e85d1b73",
   "metadata": {},
   "outputs": [
    {
     "data": {
      "text/html": [
       "<style>#sk-container-id-3 {color: black;background-color: white;}#sk-container-id-3 pre{padding: 0;}#sk-container-id-3 div.sk-toggleable {background-color: white;}#sk-container-id-3 label.sk-toggleable__label {cursor: pointer;display: block;width: 100%;margin-bottom: 0;padding: 0.3em;box-sizing: border-box;text-align: center;}#sk-container-id-3 label.sk-toggleable__label-arrow:before {content: \"▸\";float: left;margin-right: 0.25em;color: #696969;}#sk-container-id-3 label.sk-toggleable__label-arrow:hover:before {color: black;}#sk-container-id-3 div.sk-estimator:hover label.sk-toggleable__label-arrow:before {color: black;}#sk-container-id-3 div.sk-toggleable__content {max-height: 0;max-width: 0;overflow: hidden;text-align: left;background-color: #f0f8ff;}#sk-container-id-3 div.sk-toggleable__content pre {margin: 0.2em;color: black;border-radius: 0.25em;background-color: #f0f8ff;}#sk-container-id-3 input.sk-toggleable__control:checked~div.sk-toggleable__content {max-height: 200px;max-width: 100%;overflow: auto;}#sk-container-id-3 input.sk-toggleable__control:checked~label.sk-toggleable__label-arrow:before {content: \"▾\";}#sk-container-id-3 div.sk-estimator input.sk-toggleable__control:checked~label.sk-toggleable__label {background-color: #d4ebff;}#sk-container-id-3 div.sk-label input.sk-toggleable__control:checked~label.sk-toggleable__label {background-color: #d4ebff;}#sk-container-id-3 input.sk-hidden--visually {border: 0;clip: rect(1px 1px 1px 1px);clip: rect(1px, 1px, 1px, 1px);height: 1px;margin: -1px;overflow: hidden;padding: 0;position: absolute;width: 1px;}#sk-container-id-3 div.sk-estimator {font-family: monospace;background-color: #f0f8ff;border: 1px dotted black;border-radius: 0.25em;box-sizing: border-box;margin-bottom: 0.5em;}#sk-container-id-3 div.sk-estimator:hover {background-color: #d4ebff;}#sk-container-id-3 div.sk-parallel-item::after {content: \"\";width: 100%;border-bottom: 1px solid gray;flex-grow: 1;}#sk-container-id-3 div.sk-label:hover label.sk-toggleable__label {background-color: #d4ebff;}#sk-container-id-3 div.sk-serial::before {content: \"\";position: absolute;border-left: 1px solid gray;box-sizing: border-box;top: 0;bottom: 0;left: 50%;z-index: 0;}#sk-container-id-3 div.sk-serial {display: flex;flex-direction: column;align-items: center;background-color: white;padding-right: 0.2em;padding-left: 0.2em;position: relative;}#sk-container-id-3 div.sk-item {position: relative;z-index: 1;}#sk-container-id-3 div.sk-parallel {display: flex;align-items: stretch;justify-content: center;background-color: white;position: relative;}#sk-container-id-3 div.sk-item::before, #sk-container-id-3 div.sk-parallel-item::before {content: \"\";position: absolute;border-left: 1px solid gray;box-sizing: border-box;top: 0;bottom: 0;left: 50%;z-index: -1;}#sk-container-id-3 div.sk-parallel-item {display: flex;flex-direction: column;z-index: 1;position: relative;background-color: white;}#sk-container-id-3 div.sk-parallel-item:first-child::after {align-self: flex-end;width: 50%;}#sk-container-id-3 div.sk-parallel-item:last-child::after {align-self: flex-start;width: 50%;}#sk-container-id-3 div.sk-parallel-item:only-child::after {width: 0;}#sk-container-id-3 div.sk-dashed-wrapped {border: 1px dashed gray;margin: 0 0.4em 0.5em 0.4em;box-sizing: border-box;padding-bottom: 0.4em;background-color: white;}#sk-container-id-3 div.sk-label label {font-family: monospace;font-weight: bold;display: inline-block;line-height: 1.2em;}#sk-container-id-3 div.sk-label-container {text-align: center;}#sk-container-id-3 div.sk-container {/* jupyter's `normalize.less` sets `[hidden] { display: none; }` but bootstrap.min.css set `[hidden] { display: none !important; }` so we also need the `!important` here to be able to override the default hidden behavior on the sphinx rendered scikit-learn.org. See: https://github.com/scikit-learn/scikit-learn/issues/21755 */display: inline-block !important;position: relative;}#sk-container-id-3 div.sk-text-repr-fallback {display: none;}</style><div id=\"sk-container-id-3\" class=\"sk-top-container\"><div class=\"sk-text-repr-fallback\"><pre>RandomForestClassifier(random_state=69420)</pre><b>In a Jupyter environment, please rerun this cell to show the HTML representation or trust the notebook. <br />On GitHub, the HTML representation is unable to render, please try loading this page with nbviewer.org.</b></div><div class=\"sk-container\" hidden><div class=\"sk-item\"><div class=\"sk-estimator sk-toggleable\"><input class=\"sk-toggleable__control sk-hidden--visually\" id=\"sk-estimator-id-3\" type=\"checkbox\" checked><label for=\"sk-estimator-id-3\" class=\"sk-toggleable__label sk-toggleable__label-arrow\">RandomForestClassifier</label><div class=\"sk-toggleable__content\"><pre>RandomForestClassifier(random_state=69420)</pre></div></div></div></div></div>"
      ],
      "text/plain": [
       "RandomForestClassifier(random_state=69420)"
      ]
     },
     "execution_count": 23,
     "metadata": {},
     "output_type": "execute_result"
    }
   ],
   "source": [
    "from sklearn.ensemble import RandomForestClassifier\n",
    "rf_model_without_time_1 = RandomForestClassifier(n_estimators=100, max_features='sqrt',\n",
    "                                  random_state=69420)\n",
    "rf_model_without_time_1.fit(X_train_without_time_1, y_train_without_time_1)"
   ]
  },
  {
   "cell_type": "code",
   "execution_count": 24,
   "id": "d998d839",
   "metadata": {
    "scrolled": true
   },
   "outputs": [
    {
     "data": {
      "text/plain": [
       "array([[0.95, 0.05],\n",
       "       [0.57, 0.43],\n",
       "       [0.63, 0.37],\n",
       "       ...,\n",
       "       [0.98, 0.02],\n",
       "       [0.66, 0.34],\n",
       "       [0.16, 0.84]])"
      ]
     },
     "execution_count": 24,
     "metadata": {},
     "output_type": "execute_result"
    }
   ],
   "source": [
    "predictions = rf_model_without_time_1.predict(X_test_without_time_1)\n",
    "predictions\n",
    "rf_model_without_time_1.predict_proba(X_test_without_time_1)"
   ]
  },
  {
   "cell_type": "code",
   "execution_count": 25,
   "id": "cc2e69e6",
   "metadata": {},
   "outputs": [
    {
     "data": {
      "text/plain": [
       "0.608426517571885"
      ]
     },
     "execution_count": 25,
     "metadata": {},
     "output_type": "execute_result"
    }
   ],
   "source": [
    "rf_model_without_time_1.score(X_test_without_time_1,y_test_without_time_1)"
   ]
  },
  {
   "cell_type": "code",
   "execution_count": 26,
   "id": "15b66176",
   "metadata": {
    "scrolled": true
   },
   "outputs": [
    {
     "name": "stdout",
     "output_type": "stream",
     "text": [
      "The importance of feature 'id' is 36.45%.\n",
      "The importance of feature 'unknown_var_1' is 6.48%.\n",
      "The importance of feature 'unknown_var_2' is 6.06%.\n",
      "The importance of feature 'unknown_var_3' is 6.14%.\n",
      "The importance of feature 'unknown_var_9' is 16.32%.\n",
      "The importance of feature 'unknown_var_10' is 9.28%.\n",
      "The importance of feature 'unknown_var_17' is 8.85%.\n",
      "The importance of feature 'unknown_var_5_0' is 1.03%.\n",
      "The importance of feature 'unknown_var_5_1' is 0.91%.\n",
      "The importance of feature 'unknown_var_5_1cy' is 0.45%.\n",
      "The importance of feature 'unknown_var_5_2' is 0.79%.\n",
      "The importance of feature 'unknown_var_5_2cy' is 0.54%.\n",
      "The importance of feature 'unknown_var_5_3' is 0.59%.\n",
      "The importance of feature 'unknown_var_5_3cy' is 0.31%.\n",
      "The importance of feature 'unknown_var_5_4' is 0.43%.\n",
      "The importance of feature 'unknown_var_5_4cy' is 0.21%.\n",
      "The importance of feature 'unknown_var_5_5' is 0.16%.\n",
      "The importance of feature 'unknown_var_5_5cy' is 0.11%.\n",
      "The importance of feature 'unknown_var_5_6' is 0.06%.\n",
      "The importance of feature 'unknown_var_5_6cy' is 0.04%.\n",
      "The importance of feature 'unknown_var_5_7' is 0.01%.\n",
      "The importance of feature 'unknown_var_5_7cy' is 0.0%.\n",
      "The importance of feature 'unknown_var_5_8' is 0.0%.\n",
      "The importance of feature 'unknown_var_5_cb1' is 0.33%.\n",
      "The importance of feature 'unknown_var_5_cb2' is 0.08%.\n",
      "The importance of feature 'unknown_var_5_cb3' is 0.0%.\n",
      "The importance of feature 'unknown_var_5_notfound' is 0.82%.\n",
      "The importance of feature 'unknown_var_6_1' is 0.47%.\n",
      "The importance of feature 'unknown_var_6_2' is 0.45%.\n",
      "The importance of feature 'unknown_var_6_3' is 0.1%.\n",
      "The importance of feature 'unknown_var_6_4' is 0.01%.\n",
      "The importance of feature 'unknown_var_11_1' is 0.88%.\n",
      "The importance of feature 'unknown_var_11_2' is 0.65%.\n",
      "The importance of feature 'unknown_var_11_3' is 0.25%.\n",
      "The importance of feature 'unknown_var_11_4' is 0.73%.\n"
     ]
    }
   ],
   "source": [
    "importances = rf_model_without_time_1.feature_importances_\n",
    "columns = X_without_time_1.columns\n",
    "i=0\n",
    "while i <len(columns):\n",
    "    print(f\"The importance of feature '{columns[i]}' is {round(importances[i]*100,2)}%.\")\n",
    "    i+=1"
   ]
  },
  {
   "cell_type": "markdown",
   "id": "373b7bff",
   "metadata": {},
   "source": [
    "# Prediction"
   ]
  },
  {
   "cell_type": "code",
   "execution_count": 29,
   "id": "ab55808f",
   "metadata": {
    "scrolled": false
   },
   "outputs": [],
   "source": [
    "new_dat = pd.read_excel(r'D:\\quang\\data attacker\\test_clean.xlsx')\n",
    "new_dat.columns = new_dat.columns.str.strip()"
   ]
  },
  {
   "cell_type": "code",
   "execution_count": 44,
   "id": "9ec96d2f",
   "metadata": {},
   "outputs": [],
   "source": [
    "data = []\n",
    "new_dat_with_time_1_clean = pd.DataFrame(data)"
   ]
  },
  {
   "cell_type": "code",
   "execution_count": 45,
   "id": "9cb9382e",
   "metadata": {},
   "outputs": [],
   "source": [
    "new_dat_with_time_1 = new_dat[new_dat['time_1'].isnull()==False]\n",
    "new_dat_without_time_1 = new_dat[new_dat['time_1'].isnull()==True]"
   ]
  },
  {
   "cell_type": "code",
   "execution_count": 46,
   "id": "98b3be38",
   "metadata": {},
   "outputs": [],
   "source": [
    "new_dat_with_time_1 = new_dat_with_time_1.drop(['location_id',\"cat_9\",'trans_currency',\"id\",\"time_2\",\"Field_11\",\"cat_2\",\"cat_4\",\"cat_5\",\"cat_6\",\"date_1\",\"mer_des\",\"review_value\",\"date_2\",\"date_3\",\"date_4\",\"dob\",\"address\",\"mer_id\",\"mer_name\",\"trans_location\",\"cat_8\",\"job\",\"num_trans_last_month\",\"com_type\",\"job_detail\",\"unknown_var_4\",\"social_location_id\",\"social_subcriber_count\",\"social_sex_info\",\"social_friend_count\"], axis=1)\n",
    "new_dat_with_time_1_clean[['cat_1','cat_3','review_value_2','sex', 'cat_7', 'cat_10','cat_12','unknown_var_5','unknown_var_6','unknown_var_11','unknown_var_16','unknown_var_18','unknown_var_19','unknown_var_20','cat_11']] = new_dat_with_time_1[['cat_1','cat_3','review_value_2','sex', 'cat_7', 'cat_10','cat_12','unknown_var_5','unknown_var_6','unknown_var_11','unknown_var_16','unknown_var_18','unknown_var_19','unknown_var_20','cat_11']].apply(lambda x: x.fillna(x.value_counts().index[0]))\n",
    "new_dat_with_time_1_clean[['mul_rate','value','num_date_review','age','unknown_var_2','unknown_var_3','unknown_var_7','unknown_var_8','unknown_var_9','unknown_var_10','unknown_var_12','unknown_var_13','unknown_var_14','unknown_var_15', 'unknown_var_17','unknown_var_1']] = new_dat_with_time_1[['mul_rate','value','num_date_review','age','unknown_var_2','unknown_var_3','unknown_var_7','unknown_var_8','unknown_var_9','unknown_var_10','unknown_var_12','unknown_var_13','unknown_var_14','unknown_var_15', 'unknown_var_17','unknown_var_1']].apply(lambda x: x.fillna(x.median()))"
   ]
  },
  {
   "cell_type": "code",
   "execution_count": 88,
   "id": "2d25148c",
   "metadata": {
    "scrolled": true
   },
   "outputs": [
    {
     "data": {
      "text/plain": [
       "mul_rate              0\n",
       "value                 0\n",
       "num_date_review       0\n",
       "age                   0\n",
       "unknown_var_1         0\n",
       "                   ... \n",
       "unknown_var_18        0\n",
       "unknown_var_19        0\n",
       "unknown_var_20        0\n",
       "cat_11                0\n",
       "time_1             2288\n",
       "Length: 134, dtype: int64"
      ]
     },
     "execution_count": 88,
     "metadata": {},
     "output_type": "execute_result"
    }
   ],
   "source": [
    "new_dat_with_time_1_clean.isnull().sum(axis=0)"
   ]
  },
  {
   "cell_type": "code",
   "execution_count": 47,
   "id": "ede33cc0",
   "metadata": {
    "scrolled": true
   },
   "outputs": [],
   "source": [
    "change_to_int = ['cat_3', 'cat_7', 'cat_10', 'cat_11', 'unknown_var_6', 'unknown_var_11','unknown_var_16',\n",
    "                'unknown_var_18','unknown_var_19','unknown_var_20']\n",
    "for i in change_to_int:\n",
    "    new_dat_with_time_1_clean[i]=new_dat_with_time_1_clean[i].astype('int')"
   ]
  },
  {
   "cell_type": "code",
   "execution_count": 48,
   "id": "34a75f01",
   "metadata": {},
   "outputs": [],
   "source": [
    "new_dat_with_time_1_clean = pd.get_dummies(data=new_dat_with_time_1_clean, columns=['cat_1','cat_3','review_value_2','sex', 'cat_7', 'cat_10','cat_11','cat_12','unknown_var_5','unknown_var_6','unknown_var_11','unknown_var_16','unknown_var_18','unknown_var_19','unknown_var_20']) #tao bien dummies"
   ]
  },
  {
   "cell_type": "code",
   "execution_count": null,
   "id": "098d5fd6",
   "metadata": {},
   "outputs": [],
   "source": [
    "# Chinh thu tu cot cua testdata cho giong thu tu cot cua train_data\n",
    "new_dat_clean = new_dat_clean[['mul_rate','value','num_date_review','age','unknown_var_1','unknown_var_2','unknown_var_3',\n",
    "'unknown_var_7','unknown_var_8','unknown_var_9','unknown_var_10','unknown_var_12','unknown_var_13',\n",
    "'unknown_var_14','unknown_var_15','unknown_var_17','cat_1_C1','cat_1_C2','cat_3_1','cat_3_2',\n",
    "'cat_3_3','cat_3_4','review_value_2_0','review_value_2_1','sex_FEMALE','sex_MALE','cat_7_0',\n",
    "'cat_7_1','cat_7_2','cat_7_3','cat_7_4','cat_10_0','cat_10_2','cat_10_3','cat_10_4','cat_10_5',\n",
    "'cat_10_6','cat_10_7','cat_10_8','cat_10_9','cat_11_0','cat_11_2','cat_11_3','cat_11_4','cat_11_5',\n",
    "'cat_12_B','cat_12_C','cat_12_D','cat_12_E','cat_12_F','cat_12_G','cat_12_H','cat_12_I','unknown_var_5_0',\n",
    "'unknown_var_5_1','unknown_var_5_1cy','unknown_var_5_2','unknown_var_5_2cy','unknown_var_5_3','unknown_var_5_3cy',\n",
    "'unknown_var_5_4','unknown_var_5_4cy','unknown_var_5_5','unknown_var_5_5cy','unknown_var_5_6','unknown_var_5_6cy',\n",
    "'unknown_var_5_7cy','unknown_var_5_cb1','unknown_var_5_cb2','unknown_var_5_notfound','unknown_var_6_1',\n",
    "'unknown_var_6_2','unknown_var_6_3','unknown_var_6_4','unknown_var_11_1','unknown_var_11_2','unknown_var_11_3',\n",
    "'unknown_var_11_4','unknown_var_16_0','unknown_var_16_1','unknown_var_18_1','unknown_var_18_2','unknown_var_18_3',\n",
    "'unknown_var_18_4','unknown_var_18_5','unknown_var_18_6','unknown_var_18_7','unknown_var_18_8','unknown_var_18_9',\n",
    "'unknown_var_18_10','unknown_var_18_11','unknown_var_18_12','unknown_var_18_13','unknown_var_18_14','unknown_var_19_0',\n",
    "'unknown_var_19_1','unknown_var_19_2','unknown_var_19_3','unknown_var_19_4','unknown_var_19_5','unknown_var_19_6',\n",
    "'unknown_var_19_8','unknown_var_20_0','unknown_var_20_1','unknown_var_20_2','unknown_var_20_3','unknown_var_20_4',\n",
    "'unknown_var_20_5','unknown_var_20_6','unknown_var_20_7','unknown_var_20_8','unknown_var_20_9','unknown_var_20_10',\n",
    "'unknown_var_20_11','unknown_var_20_12','unknown_var_20_13']]"
   ]
  },
  {
   "cell_type": "code",
   "execution_count": 91,
   "id": "91ce715f",
   "metadata": {},
   "outputs": [
    {
     "data": {
      "text/html": [
       "<div>\n",
       "<style scoped>\n",
       "    .dataframe tbody tr th:only-of-type {\n",
       "        vertical-align: middle;\n",
       "    }\n",
       "\n",
       "    .dataframe tbody tr th {\n",
       "        vertical-align: top;\n",
       "    }\n",
       "\n",
       "    .dataframe thead th {\n",
       "        text-align: right;\n",
       "    }\n",
       "</style>\n",
       "<table border=\"1\" class=\"dataframe\">\n",
       "  <thead>\n",
       "    <tr style=\"text-align: right;\">\n",
       "      <th></th>\n",
       "      <th>mul_rate</th>\n",
       "      <th>value</th>\n",
       "      <th>num_date_review</th>\n",
       "      <th>age</th>\n",
       "      <th>unknown_var_1</th>\n",
       "      <th>unknown_var_2</th>\n",
       "      <th>unknown_var_3</th>\n",
       "      <th>unknown_var_7</th>\n",
       "      <th>unknown_var_8</th>\n",
       "      <th>unknown_var_9</th>\n",
       "      <th>...</th>\n",
       "      <th>unknown_var_20_5</th>\n",
       "      <th>unknown_var_20_6</th>\n",
       "      <th>unknown_var_20_7</th>\n",
       "      <th>unknown_var_20_8</th>\n",
       "      <th>unknown_var_20_9</th>\n",
       "      <th>unknown_var_20_10</th>\n",
       "      <th>unknown_var_20_11</th>\n",
       "      <th>unknown_var_20_12</th>\n",
       "      <th>unknown_var_20_13</th>\n",
       "      <th>unknown_var_20_14</th>\n",
       "    </tr>\n",
       "  </thead>\n",
       "  <tbody>\n",
       "    <tr>\n",
       "      <th>0</th>\n",
       "      <td>0.0</td>\n",
       "      <td>3900000.0</td>\n",
       "      <td>14.0</td>\n",
       "      <td>29.0</td>\n",
       "      <td>7.0</td>\n",
       "      <td>7.0</td>\n",
       "      <td>7.0</td>\n",
       "      <td>5.0</td>\n",
       "      <td>10.606602</td>\n",
       "      <td>-2.5</td>\n",
       "      <td>...</td>\n",
       "      <td>0</td>\n",
       "      <td>0</td>\n",
       "      <td>0</td>\n",
       "      <td>0</td>\n",
       "      <td>0</td>\n",
       "      <td>0</td>\n",
       "      <td>0</td>\n",
       "      <td>0</td>\n",
       "      <td>0</td>\n",
       "      <td>0</td>\n",
       "    </tr>\n",
       "  </tbody>\n",
       "</table>\n",
       "<p>1 rows × 221 columns</p>\n",
       "</div>"
      ],
      "text/plain": [
       "   mul_rate      value  num_date_review   age  unknown_var_1  unknown_var_2  \\\n",
       "0       0.0  3900000.0             14.0  29.0            7.0            7.0   \n",
       "\n",
       "   unknown_var_3  unknown_var_7  unknown_var_8  unknown_var_9  ...  \\\n",
       "0            7.0            5.0      10.606602           -2.5  ...   \n",
       "\n",
       "   unknown_var_20_5  unknown_var_20_6  unknown_var_20_7  unknown_var_20_8  \\\n",
       "0                 0                 0                 0                 0   \n",
       "\n",
       "   unknown_var_20_9  unknown_var_20_10  unknown_var_20_11  unknown_var_20_12  \\\n",
       "0                 0                  0                  0                  0   \n",
       "\n",
       "   unknown_var_20_13  unknown_var_20_14  \n",
       "0                  0                  0  \n",
       "\n",
       "[1 rows x 221 columns]"
      ]
     },
     "execution_count": 91,
     "metadata": {},
     "output_type": "execute_result"
    }
   ],
   "source": [
    "new_dat_clean.iloc[[0]]"
   ]
  },
  {
   "cell_type": "code",
   "execution_count": null,
   "id": "7b28e657",
   "metadata": {},
   "outputs": [],
   "source": [
    "rf_model_without_time_1.predict(new_dat_clean.iloc[[0]])"
   ]
  },
  {
   "cell_type": "code",
   "execution_count": 93,
   "id": "415ac9eb",
   "metadata": {
    "scrolled": true
   },
   "outputs": [],
   "source": [
    "new_dat_clean.to_excel(r'C:\\Users\\ADMIN\\OneDrive - National Economics University\\Desktop\\NEW CLEAN DATA.xlsx', index=False)"
   ]
  },
  {
   "cell_type": "code",
   "execution_count": null,
   "id": "f7438cb5",
   "metadata": {},
   "outputs": [],
   "source": [
    "# Chinh thu tu cot cua testdata cho giong thu tu cot cua train_data\n",
    "\n",
    "new_dat_clean = new_dat_clean[['mul_rate','value','num_date_review','age','unknown_var_1','unknown_var_2','unknown_var_3',\n",
    "'unknown_var_7','unknown_var_8','unknown_var_9','unknown_var_10','unknown_var_12','unknown_var_13',\n",
    "'unknown_var_14','unknown_var_15','unknown_var_17','cat_1_C1','cat_1_C2','cat_3_1','cat_3_2',\n",
    "'cat_3_3','cat_3_4','review_value_2_0','review_value_2_1','sex_FEMALE','sex_MALE','cat_7_0',\n",
    "'cat_7_1','cat_7_2','cat_7_3','cat_7_4','cat_10_0','cat_10_2','cat_10_3','cat_10_4','cat_10_5',\n",
    "'cat_10_6','cat_10_7','cat_10_8','cat_10_9','cat_11_0','cat_11_2','cat_11_3','cat_11_4','cat_11_5',\n",
    "'cat_12_B','cat_12_C','cat_12_D','cat_12_E','cat_12_F','cat_12_G','cat_12_H','cat_12_I','unknown_var_5_0',\n",
    "'unknown_var_5_1','unknown_var_5_1cy','unknown_var_5_2','unknown_var_5_2cy','unknown_var_5_3','unknown_var_5_3cy',\n",
    "'unknown_var_5_4','unknown_var_5_4cy','unknown_var_5_5','unknown_var_5_5cy','unknown_var_5_6','unknown_var_5_6cy',\n",
    "'unknown_var_5_7cy','unknown_var_5_cb1','unknown_var_5_cb2','unknown_var_5_notfound','unknown_var_6_1',\n",
    "'unknown_var_6_2','unknown_var_6_3','unknown_var_6_4','unknown_var_11_1','unknown_var_11_2','unknown_var_11_3',\n",
    "'unknown_var_11_4','unknown_var_16_0','unknown_var_16_1','unknown_var_18_1','unknown_var_18_2','unknown_var_18_3',\n",
    "'unknown_var_18_4','unknown_var_18_5','unknown_var_18_6','unknown_var_18_7','unknown_var_18_8','unknown_var_18_9',\n",
    "'unknown_var_18_10','unknown_var_18_11','unknown_var_18_12','unknown_var_18_13','unknown_var_18_14','unknown_var_19_0',\n",
    "'unknown_var_19_1','unknown_var_19_2','unknown_var_19_3','unknown_var_19_4','unknown_var_19_5','unknown_var_19_6',\n",
    "'unknown_var_19_8','unknown_var_20_0','unknown_var_20_1','unknown_var_20_2','unknown_var_20_3','unknown_var_20_4',\n",
    "'unknown_var_20_5','unknown_var_20_6','unknown_var_20_7','unknown_var_20_8','unknown_var_20_9','unknown_var_20_10',\n",
    "'unknown_var_20_11','unknown_var_20_12','unknown_var_20_13']]"
   ]
  },
  {
   "cell_type": "code",
   "execution_count": null,
   "id": "e3825283",
   "metadata": {},
   "outputs": [],
   "source": [
    "sum(rf_model.predict(new_dat_clean))"
   ]
  },
  {
   "cell_type": "code",
   "execution_count": null,
   "id": "775bdc2f",
   "metadata": {},
   "outputs": [],
   "source": [
    "answer = rf_model.predict(new_dat_clean)\n",
    "predict = {'Predict': answer}\n",
    "predict_df = pd.DataFrame(predict)\n",
    "predict_df.to_excel(r'C:\\Users\\ADMIN\\OneDrive - National Economics University\\Desktop\\PREDICT.xlsx', index=False)"
   ]
  }
 ],
 "metadata": {
  "kernelspec": {
   "display_name": "Python 3.9.13 ('base')",
   "language": "python",
   "name": "python3"
  },
  "language_info": {
   "codemirror_mode": {
    "name": "ipython",
    "version": 3
   },
   "file_extension": ".py",
   "mimetype": "text/x-python",
   "name": "python",
   "nbconvert_exporter": "python",
   "pygments_lexer": "ipython3",
   "version": "3.9.13"
  },
  "vscode": {
   "interpreter": {
    "hash": "519251286f1405f32e6cff55ed69bb1b79a31577ae9185a3274505f77a5b17cb"
   }
  }
 },
 "nbformat": 4,
 "nbformat_minor": 5
}
